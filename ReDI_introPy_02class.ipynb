{
  "cells": [
    {
      "cell_type": "markdown",
      "metadata": {
        "id": "view-in-github",
        "colab_type": "text"
      },
      "source": [
        "<a href=\"https://colab.research.google.com/github/Viviani21/Herbs-and-Spices_26.02.2024/blob/main/ReDI_introPy_02class.ipynb\" target=\"_parent\"><img src=\"https://colab.research.google.com/assets/colab-badge.svg\" alt=\"Open In Colab\"/></a>"
      ]
    },
    {
      "cell_type": "markdown",
      "source": [
        "This Google Colab notebook was prepared for the ReDI intro to Python class (13.03.2024). Content is extensively borrowed from Neslihan Keskin (https://github.com/neslihankeskin/ReDI-Intro-to-Python) with some modifications."
      ],
      "metadata": {
        "id": "MrqSxeQWdQbV"
      },
      "id": "MrqSxeQWdQbV"
    },
    {
      "cell_type": "markdown",
      "source": [
        "## Variables\n",
        "* what a variable is?\n",
        "* assignment operator (how we assign something to a variable?)\n",
        "* how variables can be named? Snakes, Camels, Reserved Names, and Numbers\n",
        "* how to check what is stored in the variable?"
      ],
      "metadata": {
        "id": "mWgj1LaneANK"
      },
      "id": "mWgj1LaneANK"
    },
    {
      "cell_type": "markdown",
      "source": [
        "# Data Types\n",
        "\n",
        "\n",
        "*   integers, floats, strings, and booleans\n",
        "*   comparing values\n",
        "*   type conversion functions\n",
        "\n"
      ],
      "metadata": {
        "id": "dg8hZ-59fY7t"
      },
      "id": "dg8hZ-59fY7t"
    },
    {
      "cell_type": "markdown",
      "source": [
        "integers, floats, strings, and booleans"
      ],
      "metadata": {
        "id": "KHCM1XXYm-rK"
      },
      "id": "KHCM1XXYm-rK"
    },
    {
      "cell_type": "code",
      "source": [
        "# How old are you? It's an integer if it's in whole years\n",
        "age = 1"
      ],
      "metadata": {
        "id": "355zMtHmnHyp"
      },
      "id": "355zMtHmnHyp",
      "execution_count": null,
      "outputs": []
    },
    {
      "cell_type": "code",
      "source": [
        "# Are you tall? It's floating point (float) is in meters\n",
        "hight = 1.58"
      ],
      "metadata": {
        "id": "n4kcSLFmnQve"
      },
      "id": "n4kcSLFmnQve",
      "execution_count": null,
      "outputs": []
    },
    {
      "cell_type": "code",
      "source": [
        "# What is your name? It's a string\n",
        "name = \"Anna\"\n",
        "# short_name = Anja\n",
        "surname = 'Bulina'\n",
        "# blank = \"\""
      ],
      "metadata": {
        "id": "Z9jQMIANnaPB"
      },
      "id": "Z9jQMIANnaPB",
      "execution_count": null,
      "outputs": []
    },
    {
      "cell_type": "code",
      "source": [
        "# If I need a citation?"
      ],
      "metadata": {
        "id": "UUJpazwxpIpP"
      },
      "id": "UUJpazwxpIpP",
      "execution_count": null,
      "outputs": []
    },
    {
      "cell_type": "code",
      "source": [
        "# Are you ReDI? It's boolean"
      ],
      "metadata": {
        "id": "is_PSJDOnoSW"
      },
      "id": "is_PSJDOnoSW",
      "execution_count": null,
      "outputs": []
    },
    {
      "cell_type": "code",
      "source": [
        "# Are you my type?\n",
        "type(name)"
      ],
      "metadata": {
        "id": "gI3R6Bn6n9aA"
      },
      "id": "gI3R6Bn6n9aA",
      "execution_count": null,
      "outputs": []
    },
    {
      "cell_type": "code",
      "source": [
        "letters = \"abcdefghijk\"\n",
        "newString = letters\n",
        "print(letters, type(letters))\n",
        "\n",
        "print(newString, type(newString))"
      ],
      "metadata": {
        "id": "3cdIKUDbv9PT"
      },
      "id": "3cdIKUDbv9PT",
      "execution_count": null,
      "outputs": []
    },
    {
      "cell_type": "code",
      "source": [
        "a = 'qwerty'\n",
        "b = [1,2,3,4] # it's a list, will discuss it later\n",
        "print(a[0])\n",
        "print(b[0])"
      ],
      "metadata": {
        "id": "GCT3l3PkwgyE"
      },
      "id": "GCT3l3PkwgyE",
      "execution_count": null,
      "outputs": []
    },
    {
      "cell_type": "code",
      "source": [
        "text = \"This is a rather long sentence, but how many characters and blanks are in it?\"\n",
        "len(text) # counts characters in a string (incl. spaces)"
      ],
      "metadata": {
        "id": "LIZHc_FswJ-_"
      },
      "id": "LIZHc_FswJ-_",
      "execution_count": null,
      "outputs": []
    },
    {
      "cell_type": "code",
      "source": [
        "word = \"Hello!\"\n",
        "word[1:2]"
      ],
      "metadata": {
        "id": "ZfzBBUJUyKkM"
      },
      "id": "ZfzBBUJUyKkM",
      "execution_count": null,
      "outputs": []
    },
    {
      "cell_type": "code",
      "source": [
        "word[0:3]\n"
      ],
      "metadata": {
        "id": "ItVntQp8ynKw"
      },
      "id": "ItVntQp8ynKw",
      "execution_count": null,
      "outputs": []
    },
    {
      "cell_type": "code",
      "source": [
        "word[:3]\n"
      ],
      "metadata": {
        "id": "Oxi-5jD4yobu"
      },
      "id": "Oxi-5jD4yobu",
      "execution_count": null,
      "outputs": []
    },
    {
      "cell_type": "code",
      "source": [
        "word[:]\n"
      ],
      "metadata": {
        "id": "NibyYto5yp2H"
      },
      "id": "NibyYto5yp2H",
      "execution_count": null,
      "outputs": []
    },
    {
      "cell_type": "code",
      "source": [
        "word[3:6]\n"
      ],
      "metadata": {
        "id": "ENP2iXOxyrY3"
      },
      "id": "ENP2iXOxyrY3",
      "execution_count": null,
      "outputs": []
    },
    {
      "cell_type": "code",
      "source": [
        "word[3:]"
      ],
      "metadata": {
        "id": "SDLbOS7sytgX"
      },
      "id": "SDLbOS7sytgX",
      "execution_count": null,
      "outputs": []
    },
    {
      "cell_type": "code",
      "source": [
        "word[2:-2]"
      ],
      "metadata": {
        "id": "U7XqYDP_yxel"
      },
      "id": "U7XqYDP_yxel",
      "execution_count": null,
      "outputs": []
    },
    {
      "cell_type": "code",
      "source": [
        "word[2:len(word) - 2]"
      ],
      "metadata": {
        "id": "JN_VPA0EyynF"
      },
      "id": "JN_VPA0EyynF",
      "execution_count": null,
      "outputs": []
    },
    {
      "cell_type": "code",
      "source": [
        "pi = 3.14\n",
        "print(pi, type(pi))\n",
        "\n",
        "smallNumber = 3E-10\n",
        "print(smallNumber, type(smallNumber))"
      ],
      "metadata": {
        "id": "xeQmoL4CvPKn"
      },
      "id": "xeQmoL4CvPKn",
      "execution_count": null,
      "outputs": []
    },
    {
      "cell_type": "markdown",
      "source": [
        "comparing values"
      ],
      "metadata": {
        "id": "2R5Gsv4mq8_E"
      },
      "id": "2R5Gsv4mq8_E"
    },
    {
      "cell_type": "code",
      "source": [
        "# equals\n",
        "a = 1\n",
        "b = \"1\"\n",
        "print(a == b)"
      ],
      "metadata": {
        "id": "pqg1Ep_jq-Dx"
      },
      "id": "pqg1Ep_jq-Dx",
      "execution_count": null,
      "outputs": []
    },
    {
      "cell_type": "code",
      "source": [
        "c = \"Anna\"\n",
        "print(type(c) == type(b))"
      ],
      "metadata": {
        "id": "zBv-c3HnrMg1"
      },
      "id": "zBv-c3HnrMg1",
      "execution_count": null,
      "outputs": []
    },
    {
      "cell_type": "code",
      "source": [
        "# not equal\n",
        "print(a != b)\n",
        "# print (10 != 100)"
      ],
      "metadata": {
        "id": "aJKS9spxrVvT"
      },
      "id": "aJKS9spxrVvT",
      "execution_count": null,
      "outputs": []
    },
    {
      "cell_type": "code",
      "source": [
        "# compare\n",
        "# <\n",
        "# >\n",
        "# <=\n",
        "# >=\n",
        "\n",
        "# \"A\" > \"a\" # is it?\n",
        "# help(ord)"
      ],
      "metadata": {
        "id": "0tQVLu9Mrmoj"
      },
      "id": "0tQVLu9Mrmoj",
      "execution_count": null,
      "outputs": []
    },
    {
      "cell_type": "markdown",
      "source": [
        "type conversion functions"
      ],
      "metadata": {
        "id": "GS0JfXLynGKj"
      },
      "id": "GS0JfXLynGKj"
    },
    {
      "cell_type": "code",
      "source": [
        "a = 1\n",
        "b = \"0\"\n",
        "print(type(a), type(b))"
      ],
      "metadata": {
        "id": "TpwaCun9nJHf"
      },
      "id": "TpwaCun9nJHf",
      "execution_count": null,
      "outputs": []
    },
    {
      "cell_type": "code",
      "source": [
        "c = int(b)\n",
        "print(c)\n",
        "print(type(c))"
      ],
      "metadata": {
        "id": "LiFNMj7doP-_"
      },
      "id": "LiFNMj7doP-_",
      "execution_count": null,
      "outputs": []
    },
    {
      "cell_type": "code",
      "source": [
        "a_bool = bool(a)\n",
        "b_bool = bool(b)\n",
        "print(type(a_bool), type(b_bool))"
      ],
      "metadata": {
        "id": "vBj0WGVSol0A"
      },
      "id": "vBj0WGVSol0A",
      "execution_count": null,
      "outputs": []
    },
    {
      "cell_type": "markdown",
      "source": [
        "# Arithmetic and Logical Operations\n",
        "\n",
        "\n",
        "*   addition (\"+\"), subtraction (\"-\"), multiplication (\"*\"), division (\"/\"), modulus (\"%\"), and exponentiation (\"**\")\n",
        "*   logical operations: AND (and), OR (or), NOT (not)\n",
        "\n"
      ],
      "metadata": {
        "id": "DJote6Ozfs7H"
      },
      "id": "DJote6Ozfs7H"
    },
    {
      "cell_type": "markdown",
      "source": [
        "addition (\"+\"), subtraction (\"-\"), multiplication (\"*\"), division (\"/\"), modulus (\"%\"), and exponentiation (\"**\")"
      ],
      "metadata": {
        "id": "6vN_oCyrp0_N"
      },
      "id": "6vN_oCyrp0_N"
    },
    {
      "cell_type": "markdown",
      "source": [
        " Imagine you have a basket of apples (3) and you buy some more at the store (7). Write Python code to find the total number of apples you now have."
      ],
      "metadata": {
        "id": "i09XJnMLsaeK"
      },
      "id": "i09XJnMLsaeK"
    },
    {
      "cell_type": "code",
      "source": [
        "# code"
      ],
      "metadata": {
        "id": "_8HrX0EEr5fp"
      },
      "id": "_8HrX0EEr5fp",
      "execution_count": null,
      "outputs": []
    },
    {
      "cell_type": "markdown",
      "source": [
        "The current temperature is 25 degrees Celsius. The weather forecast predicts a drop of 7 degrees tonight. Write Python code to find the expected temperature after the drop."
      ],
      "metadata": {
        "id": "zrtZTaqTsgn5"
      },
      "id": "zrtZTaqTsgn5"
    },
    {
      "cell_type": "code",
      "source": [
        "# code"
      ],
      "metadata": {
        "id": "wcszsAUDsosT"
      },
      "id": "wcszsAUDsosT",
      "execution_count": null,
      "outputs": []
    },
    {
      "cell_type": "markdown",
      "source": [
        "A recipe requires 2 cups of flour for a single batch of cookies. If you want to bake 3 batches, how many cups of flour do you need in total? Write Python code to calculate this."
      ],
      "metadata": {
        "id": "dD832nl2szfj"
      },
      "id": "dD832nl2szfj"
    },
    {
      "cell_type": "code",
      "source": [
        "# code"
      ],
      "metadata": {
        "id": "rDq5Wy2is0bh"
      },
      "id": "rDq5Wy2is0bh",
      "execution_count": null,
      "outputs": []
    },
    {
      "cell_type": "markdown",
      "source": [
        "You have 12 meters of fabric and need pieces that are each 3 meters long. Write Python code to find out how many pieces you can cut. (Remember, division with / might result in a decimal for fractional parts.)"
      ],
      "metadata": {
        "id": "QVbQxbpQs2R4"
      },
      "id": "QVbQxbpQs2R4"
    },
    {
      "cell_type": "code",
      "source": [
        "# code"
      ],
      "metadata": {
        "id": "cZuyWDc5s7DN"
      },
      "id": "cZuyWDc5s7DN",
      "execution_count": null,
      "outputs": []
    },
    {
      "cell_type": "markdown",
      "source": [
        "During a party, you have 10 slices of pizza and 3 friends. After everyone gets a slice, how many slices are leftover? Use the modulus operator (%) to find the remainder."
      ],
      "metadata": {
        "id": "Gx1v_TBhtA84"
      },
      "id": "Gx1v_TBhtA84"
    },
    {
      "cell_type": "code",
      "source": [
        "# code"
      ],
      "metadata": {
        "id": "k_WheYE3tFcW"
      },
      "id": "k_WheYE3tFcW",
      "execution_count": null,
      "outputs": []
    },
    {
      "cell_type": "markdown",
      "source": [
        "You are saving money for a new phone. You can invest $100 initially and the bank offers a 5% annual interest rate. How much money will you have after 2 years if the interest compounds yearly? Use exponentiation to calculate the growth (interest rate can be expressed as a decimal, e.g., 0.05)."
      ],
      "metadata": {
        "id": "U_8QE9T2tOY1"
      },
      "id": "U_8QE9T2tOY1"
    },
    {
      "cell_type": "code",
      "source": [
        "# code"
      ],
      "metadata": {
        "id": "J1HhuRICtPQZ"
      },
      "id": "J1HhuRICtPQZ",
      "execution_count": null,
      "outputs": []
    },
    {
      "cell_type": "markdown",
      "source": [
        "***Challenge Exercise:*** Imagine you're building a budget calculator for groceries. You have the following information:\n",
        "\n",
        "    Starting budget: $100 (store this in a variable)\n",
        "    Price of apples: $2 per kilogram (kg) (store this in a variable)\n",
        "    Quantity of apples you want to buy: 3 kg (store this in a variable)\n",
        "\n",
        "    Price of milk: $3 per liter (L) (store this in a variable)\n",
        "    Quantity of milk you want to buy: 2 L (store this in a variable)\n",
        "    Discount coupon: 10% off your total purchase (store the discount value as a decimal, e.g., 0.1)\n",
        "\n",
        "Write Python code to calculate the following:\n",
        "\n",
        "    Total cost of apples: Multiply the price per kg by the quantity.\n",
        "    Total cost of milk: Multiply the price per liter by the quantity.\n",
        "    Subtotal: Add the total cost of apples and milk.\n",
        "    Discounted amount: Multiply the subtotal by the discount value.\n",
        "    Final budget: Subtract the discounted amount from the starting budget.\n"
      ],
      "metadata": {
        "id": "zRxbV7VUsqxW"
      },
      "id": "zRxbV7VUsqxW"
    },
    {
      "cell_type": "code",
      "source": [
        "# code"
      ],
      "metadata": {
        "id": "HPpUB400uac5"
      },
      "id": "HPpUB400uac5",
      "execution_count": null,
      "outputs": []
    },
    {
      "cell_type": "markdown",
      "source": [
        "Can we do something similar with strings? Let's check!"
      ],
      "metadata": {
        "id": "1E9vbMBFxg5I"
      },
      "id": "1E9vbMBFxg5I"
    },
    {
      "cell_type": "code",
      "source": [
        "#String Operators\n",
        "a = 'hello'\n",
        "b = 'class'\n",
        "c = ''\n"
      ],
      "metadata": {
        "id": "AP_bZRtUxfqZ"
      },
      "id": "AP_bZRtUxfqZ",
      "execution_count": null,
      "outputs": []
    },
    {
      "cell_type": "code",
      "source": [
        "c = a + b\n",
        "print(c)"
      ],
      "metadata": {
        "id": "T7kIfJ2ixtoc"
      },
      "id": "T7kIfJ2ixtoc",
      "execution_count": null,
      "outputs": []
    },
    {
      "cell_type": "code",
      "source": [
        "c = a * 5\n",
        "print(c)"
      ],
      "metadata": {
        "id": "g2N2rInyxvW2"
      },
      "id": "g2N2rInyxvW2",
      "execution_count": null,
      "outputs": []
    },
    {
      "cell_type": "code",
      "source": [
        "c = 10 * b\n",
        "print(c)"
      ],
      "metadata": {
        "id": "vQ_3Q86SxwYC"
      },
      "id": "vQ_3Q86SxwYC",
      "execution_count": null,
      "outputs": []
    },
    {
      "cell_type": "markdown",
      "source": [
        "logical operations: AND (and), OR (or), NOT (not)"
      ],
      "metadata": {
        "id": "5sKztu1jp2BC"
      },
      "id": "5sKztu1jp2BC"
    },
    {
      "cell_type": "code",
      "source": [
        "a = False\n",
        "b = True\n",
        "c = a and b\n",
        "# print(f\"Data type of a is {type(a)}\")\n",
        "# print(f\"Data type of b is {type(b)}\")\n",
        "# print(f\"Data type of c is {type(c)}\")\n",
        "print(c)"
      ],
      "metadata": {
        "colab": {
          "base_uri": "https://localhost:8080/"
        },
        "id": "hlIoSxNtp67I",
        "outputId": "790357d1-bd76-4c75-92ce-5a5046bae369"
      },
      "id": "hlIoSxNtp67I",
      "execution_count": null,
      "outputs": [
        {
          "output_type": "stream",
          "name": "stdout",
          "text": [
            "Data type of a is <class 'bool'>\n",
            "False\n"
          ]
        }
      ]
    },
    {
      "cell_type": "code",
      "source": [
        "a = False\n",
        "b = True\n",
        "c = not(a and b)\n",
        "print(c)"
      ],
      "metadata": {
        "colab": {
          "base_uri": "https://localhost:8080/"
        },
        "id": "dWyDCP8-qNV4",
        "outputId": "9691240b-12cd-4513-e3c4-0c6d4cab2f79"
      },
      "id": "dWyDCP8-qNV4",
      "execution_count": null,
      "outputs": [
        {
          "output_type": "stream",
          "name": "stdout",
          "text": [
            "True\n"
          ]
        }
      ]
    },
    {
      "cell_type": "code",
      "source": [
        "a = False\n",
        "b = True\n",
        "c = not (a and b) or (a and b)\n",
        "print(c)"
      ],
      "metadata": {
        "colab": {
          "base_uri": "https://localhost:8080/"
        },
        "id": "pWeatoRJqUGo",
        "outputId": "cc32390f-5ae1-41cf-b36a-b501cb2432a5"
      },
      "id": "pWeatoRJqUGo",
      "execution_count": null,
      "outputs": [
        {
          "output_type": "stream",
          "name": "stdout",
          "text": [
            "False\n"
          ]
        }
      ]
    },
    {
      "cell_type": "markdown",
      "source": [
        "You want to write Python code to check if a user is eligible to register for a competition. The user must be at least 18 years old and have a valid registration code.  Write a Python expression using logical operators to determine eligibility."
      ],
      "metadata": {
        "id": "xIaRNXxUvyMQ"
      },
      "id": "xIaRNXxUvyMQ"
    },
    {
      "cell_type": "code",
      "source": [
        "age = 17\n",
        "has_valid_code = False\n",
        "# expression"
      ],
      "metadata": {
        "id": "xgjxVnE5vxPW"
      },
      "id": "xgjxVnE5vxPW",
      "execution_count": null,
      "outputs": []
    },
    {
      "cell_type": "markdown",
      "source": [
        "A security system is designed to trigger an alarm if a door sensor detects an opening (door_open = True) and either a motion sensor detects movement (motion_detected = True) or a window sensor detects a break-in (window_broken = True\n",
        "). Write a Python expression using logical operators to represent this scenario."
      ],
      "metadata": {
        "id": "irLD_-oCwgNg"
      },
      "id": "irLD_-oCwgNg"
    },
    {
      "cell_type": "code",
      "source": [
        "door_open = 1\n",
        "motion_detected = 0\n",
        "window_broken = 0\n",
        "# expression"
      ],
      "metadata": {
        "id": "j3m7XOqZwjQF"
      },
      "id": "j3m7XOqZwjQF",
      "execution_count": null,
      "outputs": []
    },
    {
      "cell_type": "markdown",
      "source": [
        "Some more examples"
      ],
      "metadata": {
        "id": "2SYSpuDX0zhH"
      },
      "id": "2SYSpuDX0zhH"
    },
    {
      "cell_type": "code",
      "source": [
        "# strings (ex: 'asdf', 'hello my name is x', 'a', '123')\n",
        "language = \"Python\"\n",
        "\n",
        "# integers (ex: 1, -100, 1383234)\n",
        "major_version = 3\n",
        "\n",
        "# floats (floating point values) (ex: 1.0, -100.1234, 0.0000003, 1e5)\n",
        "minor_version = 9.12\n",
        "\n",
        "# booleans (ex: True, False)\n",
        "showTypes = True\n",
        "\n",
        "# lists (ex: [3, 1, 'r', 'e'], [], [3.2, 3, 4.5])\n",
        "types = [\"str\", \"int\", \"float\", \"complex\", \"list\", \"tuple\", \"range\", \"dict\",\n",
        "         \"set\", \"frozenset\", \"bool\", \"bytes\", \"bytearray\", \"memoryview\",\n",
        "         \"NoneType\"]\n",
        "\n",
        "# functions (ex: def my_function (a, b): ...)\n",
        "def add(a, b): return a+b\n",
        "\n",
        "\n",
        "# now we print all the variables from above\n",
        "print(\"{} {}.{}\".format(language, major_version, minor_version))\n",
        "if showTypes:\n",
        "  print(\"python types: \")\n",
        "  for t in types:\n",
        "    print(t)\n",
        "print()\n",
        "print(add(2,3))"
      ],
      "metadata": {
        "id": "bNpSFff7uvqw"
      },
      "id": "bNpSFff7uvqw",
      "execution_count": null,
      "outputs": []
    }
  ],
  "metadata": {
    "kernelspec": {
      "display_name": "Python 3 (ipykernel)",
      "language": "python",
      "name": "python3"
    },
    "language_info": {
      "codemirror_mode": {
        "name": "ipython",
        "version": 3
      },
      "file_extension": ".py",
      "mimetype": "text/x-python",
      "name": "python",
      "nbconvert_exporter": "python",
      "pygments_lexer": "ipython3",
      "version": "3.11.3"
    },
    "colab": {
      "provenance": [],
      "include_colab_link": true
    }
  },
  "nbformat": 4,
  "nbformat_minor": 5
}